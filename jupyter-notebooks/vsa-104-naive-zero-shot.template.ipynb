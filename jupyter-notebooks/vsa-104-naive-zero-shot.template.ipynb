{
 "cells": [
  {
   "cell_type": "markdown",
   "metadata": {
    "id": "KPeAm8n6cM5Z"
   },
   "source": [
    "# Preamble"
   ]
  },
  {
   "cell_type": "markdown",
   "metadata": {
    "id": "zEgix9HRdzAL"
   },
   "source": [
    "## Library Imports"
   ]
  },
  {
   "cell_type": "code",
   "execution_count": 1,
   "metadata": {
    "colab": {
     "base_uri": "https://localhost:8080/"
    },
    "executionInfo": {
     "elapsed": 7041,
     "status": "ok",
     "timestamp": 1695164362735,
     "user": {
      "displayName": "Toby Tobkin",
      "userId": "12277931878948547258"
     },
     "user_tz": 420
    },
    "id": "9cyllKO2bsfC",
    "outputId": "2e45ae48-a1d3-4d96-b31e-d056af5f5307"
   },
   "outputs": [],
   "source": [
    "%%capture\n",
    "!pip install -r 'lib/requirements.txt'"
   ]
  },
  {
   "cell_type": "code",
   "execution_count": 2,
   "metadata": {},
   "outputs": [],
   "source": [
    "from lib.openai import gpt4\n",
    "from lib.display_md import display_md\n",
    "from lib.llama2 import llama2"
   ]
  },
  {
   "cell_type": "markdown",
   "metadata": {
    "id": "cHKBwtogobOb"
   },
   "source": [
    "# Work Diary"
   ]
  },
  {
   "cell_type": "markdown",
   "metadata": {
    "id": "BBEUVGtqogY3"
   },
   "source": [
    "## Sep 19 - `naive-zero-shot.template.ipynb`\n",
    "\n"
   ]
  },
  {
   "cell_type": "markdown",
   "metadata": {
    "id": "ghhgNhBvsKjx"
   },
   "source": [
    "### one-pager text"
   ]
  },
  {
   "cell_type": "code",
   "execution_count": 3,
   "metadata": {
    "id": "rwPO1fq5pAZf"
   },
   "outputs": [],
   "source": [
    "one_pager = \"\"\"\n",
    "Background\n",
    "* A primary barrier to the widespread adoption of clean hydrogen fuel storage is discovering a practical material for Hydrogen Electrolysis.\n",
    "* At the current rate of materials science advancement, researchers project that the discovery and adoption of such an advanced material will take until 20XX[a].\n",
    "* However, climate change and pollution are occurring rapidly, so it is critical to accelerate this R&D timeframe to 2035.\n",
    "* The most significant barrier to accelerating this timeframe is the quantity of researcher toil required per cycle of advanced materials experiments because [order of magnitude][b] experiments are projected to be needed to make the necessary discoveries\n",
    "* The primary root cause of researcher toil is the human-inaccessibility of Hydrogen Electrolysis Materials Science (HEMS) experimental data.\n",
    "* HEMS experimental data is inaccessible because there is no widely adopted ontology for HEMS; thus, tens of millions[c] of HEMS experiments are stored in heterogeneous formats by thousands of materials synthesis labs[d]\n",
    "* We presume that HEMS data will remain heterogeneous without Practical Automated Ontologization for HEMS Heterogeneous Experimental Data due to intractable issues such as researcher turnover at labs.\n",
    "* Forschungszentrum Jülich Department of AI and Data Analytics for Integrated Clean Energy Technologies seeks research advancements to commercialize practical, clean hydrogen fuel storage.\n",
    "* ValuestreamAI seeks a challenging, impactful engineering problem to solve.\n",
    "Hackathon Problem Statement\n",
    "* Automate the classification of non-standardized CSV headers to Node Labels compliant with the Proposed EMMO Extension Ontology for Hydrogen Electrolysis Materials Science.\n",
    "* Why we chose this subproblem:\n",
    "   * Alignment with the broader goals of the client research department\n",
    "   * Urgency for the principal researcher\n",
    "   * Impact on the principal researcher\n",
    "   * Estimated business and technical analysis scope smaller than 70 hours\n",
    "   * Estimated implementation scope smaller than 30 hours\n",
    "   * Representative of the department's larger problem set: Header Classification is a microcosm of the entire problem of solving the HEMS Heterogeneous Experimental Data problem.\n",
    "   * It is approachable enough for ValuestreamAI to upskill local engineers to do strong junior-level analysis and implementation in less than 150 hours.\n",
    "*   KPIs\n",
    "   * ValuestreamAI seeks to choose KPIs that are an accurate proxy for implementing Practical Automated Ontologization for HEMS Heterogeneous Experimental Data.\n",
    "   * Classifier Precision: precision of the classifier is paramount because a human user will distrust the inference system if they feel they cannot trust positive inferences\n",
    "   * Classifier Recall: recall determines the percent of researcher toil automated for the given subtask\n",
    "   * Runtime cost per million rows: determines the ongoing per-unit cost of testing and using the inference pipeline. Fortunately, this cost is exponentiating downwards due to an ongoing industry race to the top.\n",
    "   * Upfront R&D costs: the upfront costs. There should be an attainable cost curve for achieving useful milestones.\n",
    "   * Researcher satisfaction with deliverable\n",
    "\n",
    "\n",
    "   * Common KPIs considered but not included:\n",
    "   * F1 score: because we already include precision and recall\n",
    "   * Concept Drift Adaptability: future work\n",
    "   * Training time and cost: because we are starting with zero-shot techniques\n",
    "Solution Constraints\n",
    "   * The proposed solution must plausibly\n",
    "   * represent the larger problem of Practical Automated Ontologization for HEMS Heterogeneous Experimental Data\n",
    "   * scale to reduce a top category of researcher toil by at least 90%\n",
    "   * be adaptable to support high-quality integration with neo4j and VIMI\n",
    "Hackathon Proposed Deliverable\n",
    "   * Deliverable will be a Github repo including the following:\n",
    "   * Jupyter notebooks, including inference proof of concept, experiments, evaluation, and analysis\n",
    "   * A self-contained development environment for reproducing or extending the experiments\n",
    "   * Well-written documentation for relevant R&D workflows\n",
    "   * Up to three hours of recorded live technical deep dive sessions for the client research team\n",
    "   * Deliverable attributes\n",
    "   * Complementary to existing research work\n",
    "   * MIT license\n",
    "   * High standard of readability\n",
    "Payment Terms\n",
    "   * ValuestreamAI requests payment only if the deliverable meets or exceeds the client research team's expectations.\n",
    "   * NET60 from the day of delivery to the client research team\n",
    "   * Requested payment amount is the approximate cost of competition preparation and travel expenses, $4000 CAD\n",
    "   * Engineering hours are granted pro bono for this project.\n",
    "Future Work\n",
    "   * The proposed deliverable is only a tiny slice of the larger problem of Practical Automated Ontologization for HEMS Heterogeneous Experimental Data\n",
    "   * However, the ValuestreamAI team is in the early stages of understanding the broader context of this research field\n",
    "   * The next known subproblems are:[e]\n",
    "   * Defining the complete problem scope of Practical Automated Ontologization for HEMS Heterogeneous Experimental Data\n",
    "   * Inferring ontological relationships between heterogeneous data fields\n",
    "   * Investigating the potential for collaboration with other research institutions to pool resources and data\n",
    "   * Evaluating the effectiveness of the ontology in practice and making necessary adjustments based on feedback from researchers\n",
    "   * Exploring the potential for machine learning algorithms to predict outcomes based on the HEMS data\n",
    "Jargon and Entities\n",
    "   * Hydrogen Electrolysis Materials Science (HEMS): The field of research\n",
    "   * HEMS Heterogeneous Experimental Data: The subproblem under research\n",
    "   * Proposed EMMO Extension Ontology: The department's proposed ontology for HEMS\n",
    "   * Practical Automated Ontologization for HEMS Heterogeneous Experimental Data: The proposed solution to inaccessible experimental data\n",
    "   * neo4j: an industry-standard graph database\n",
    "   * VIMI: [f]\n",
    "\n",
    "\n",
    "[a]Whats the year?\n",
    "[b]whats the quantity?\n",
    "[c]quantity true?\n",
    "[d]quantity correct?\n",
    "[e]Max to add a few more bullet points\n",
    "[f]What does VIMI stand for?\n",
    "\"\"\""
   ]
  },
  {
   "cell_type": "markdown",
   "metadata": {
    "id": "ohM_ZibKsTkV"
   },
   "source": [
    "### prompt"
   ]
  },
  {
   "cell_type": "code",
   "execution_count": 4,
   "metadata": {
    "id": "WLBhFSSOsU0n"
   },
   "outputs": [],
   "source": [
    "prompt = f\"\"\"\n",
    "What sections should be in a proof of concept notebook for doing zero-shot prediction of materials science ontology classes from experimental csv data headers?\n",
    "\n",
    "For context, the engineering proposal is given in <one-pager>\n",
    "\n",
    "<one-pager>\n",
    "{one_pager}\n",
    "</one-pager>\n",
    "\"\"\""
   ]
  },
  {
   "cell_type": "code",
   "execution_count": 5,
   "metadata": {
    "id": "Qx6RsxTPqHLN"
   },
   "outputs": [],
   "source": [
    "completion = gpt4(prompt)"
   ]
  },
  {
   "cell_type": "code",
   "execution_count": 6,
   "metadata": {
    "colab": {
     "base_uri": "https://localhost:8080/",
     "height": 458
    },
    "executionInfo": {
     "elapsed": 17,
     "status": "ok",
     "timestamp": 1695164492392,
     "user": {
      "displayName": "Toby Tobkin",
      "userId": "12277931878948547258"
     },
     "user_tz": 420
    },
    "id": "YjpKQaEIqKTS",
    "outputId": "6f2ca15f-5f7b-44ef-e854-c91cffc83f52"
   },
   "outputs": [
    {
     "data": {
      "text/markdown": [
       "Based on the provided context, the following sections should be included in a proof of concept notebook for doing zero-shot prediction of materials science ontology classes from experimental CSV data headers:\n",
       "\n",
       "1. **Introduction**: This section should provide a brief overview of the problem, the purpose of the notebook, and the approach used to solve the problem.\n",
       "\n",
       "2. **Data Loading and Exploration**: This section should include code and explanations for loading the CSV data, exploring its structure, and understanding the headers.\n",
       "\n",
       "3. **Data Preprocessing**: This section should detail the steps taken to clean and preprocess the data for the zero-shot prediction task. This might include handling missing values, standardizing header names, etc.\n",
       "\n",
       "4. **Ontology Loading and Exploration**: This section should include code and explanations for loading the Proposed EMMO Extension Ontology for Hydrogen Electrolysis Materials Science, exploring its structure, and understanding the Node Labels.\n",
       "\n",
       "5. **Zero-Shot Prediction Model**: This section should detail the zero-shot prediction model used, including its architecture, how it was trained (if applicable), and how it makes predictions.\n",
       "\n",
       "6. **Model Application**: This section should show how the model is applied to the CSV headers to predict ontology classes. It should include code, explanations, and visualizations of the results.\n",
       "\n",
       "7. **Evaluation**: This section should evaluate the performance of the model using the KPIs mentioned in the proposal, such as Classifier Precision, Classifier Recall, Runtime cost per million rows, and Upfront R&D costs.\n",
       "\n",
       "8. **Discussion**: This section should discuss the results, including any limitations, potential improvements, and how well the model meets the solution constraints.\n",
       "\n",
       "9. **Conclusion and Future Work**: This section should summarize the findings and discuss potential future work, as outlined in the proposal.\n",
       "\n",
       "10. **References**: This section should list any references used in the notebook.\n",
       "\n",
       "Remember to include clear explanations and visualizations throughout the notebook to make it easy to understand."
      ],
      "text/plain": [
       "<IPython.core.display.Markdown object>"
      ]
     },
     "metadata": {},
     "output_type": "display_data"
    }
   ],
   "source": [
    "display_md(completion)"
   ]
  }
 ],
 "metadata": {
  "colab": {
   "collapsed_sections": [
    "cWp08IdDa_ok"
   ],
   "provenance": [
    {
     "file_id": "1_Z3m7x9ysDuVESu0C4sG8YpDyrxKLwyJ",
     "timestamp": 1695128003830
    }
   ]
  },
  "kernelspec": {
   "display_name": "Python 3 (ipykernel)",
   "language": "python",
   "name": "python3"
  },
  "language_info": {
   "codemirror_mode": {
    "name": "ipython",
    "version": 3
   },
   "file_extension": ".py",
   "mimetype": "text/x-python",
   "name": "python",
   "nbconvert_exporter": "python",
   "pygments_lexer": "ipython3",
   "version": "3.11.4"
  }
 },
 "nbformat": 4,
 "nbformat_minor": 4
}
