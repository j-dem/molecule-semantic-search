{
 "cells": [
  {
   "cell_type": "markdown",
   "metadata": {
    "id": "KPeAm8n6cM5Z"
   },
   "source": [
    "# Preamble"
   ]
  },
  {
   "cell_type": "markdown",
   "metadata": {
    "id": "zEgix9HRdzAL"
   },
   "source": [
    "## Library Imports"
   ]
  },
  {
   "cell_type": "code",
   "execution_count": 1,
   "metadata": {
    "colab": {
     "base_uri": "https://localhost:8080/"
    },
    "executionInfo": {
     "elapsed": 5736,
     "status": "ok",
     "timestamp": 1695129714319,
     "user": {
      "displayName": "Toby Tobkin",
      "userId": "12277931878948547258"
     },
     "user_tz": 420
    },
    "id": "9cyllKO2bsfC",
    "outputId": "a0735dc3-7cd6-456f-9ca6-41db73b830f8"
   },
   "outputs": [],
   "source": [
    "%%capture\n",
    "!pip install -r 'lib/requirements.txt'"
   ]
  },
  {
   "cell_type": "code",
   "execution_count": 2,
   "metadata": {},
   "outputs": [],
   "source": [
    "from lib.openai import gpt4\n",
    "from lib.display_md import display_md\n",
    "from lib.llama2 import llama2"
   ]
  },
  {
   "cell_type": "markdown",
   "metadata": {
    "id": "jTScRcr6hPyM"
   },
   "source": [
    "# 19 Sep - Editing Outline"
   ]
  },
  {
   "cell_type": "markdown",
   "metadata": {
    "id": "dNsiRCevjieS"
   },
   "source": [
    "## Outline Text"
   ]
  },
  {
   "cell_type": "code",
   "execution_count": 3,
   "metadata": {
    "id": "Vh50VKTdjaTW"
   },
   "outputs": [],
   "source": [
    "outline = \"\"\"\n",
    "Background\n",
    "* A primary barrier to the widespread adoption of clean hydrogen fuel storage is discovering a practical material for Hydrogen Electrolysis.\n",
    "* At the current rate of materials science advancement, researchers project that the discovery and adoption of such an advanced material will take until 20XX[a].\n",
    "* However, climate change and pollution are occurring rapidly, so it is critical to accelerate this R&D timeframe to 2035.\n",
    "* The most significant barrier to accelerating this timeframe is the quantity of researcher toil required per cycle of advanced materials experiments because [order of magnitude][b] experiments are projected to be needed to make the necessary discoveries\n",
    "* The primary root cause of researcher toil is the human-inaccessibility of Hydrogen Electrolysis Materials Science (HEMS) experimental data.\n",
    "* HEMS experimental data is inaccessible because there is no widely adopted ontology for HEMS; thus, tens of millions[c] of HEMS experiments are stored in heterogeneous formats by thousands of materials synthesis labs[d]\n",
    "* We presume that HEMS data will remain heterogeneous without Practical Automated Ontologization for HEMS Heterogeneous Experimental Data due to intractable issues such as researcher turnover at labs.\n",
    "* Forschungszentrum Jülich Department of AI and Data Analytics for Integrated Clean Energy Technologies seeks research advancements to commercialize practical, clean hydrogen fuel storage.\n",
    "* ValuestreamAI seeks a challenging, impactful engineering problem to solve.\n",
    "Hackathon Problem Statement\n",
    "* Automate the classification of non-standardized CSV headers to Node Labels compliant with the Proposed EMMO Extension Ontology for Hydrogen Electrolysis Materials Science.\n",
    "* Why we chose this subproblem:\n",
    "   * Alignment with the broader goals of the client research department\n",
    "   * Urgency for the principal researcher\n",
    "   * Impact on the principal researcher\n",
    "   * Estimated business and technical analysis scope smaller than 70 hours\n",
    "   * Estimated implementation scope smaller than 30 hours\n",
    "   * Representative of the department's larger problem set: Header Classification is a microcosm of the entire problem of solving the HEMS Heterogeneous Experimental Data problem.\n",
    "   * It is approachable enough for ValuestreamAI to upskill local engineers to do strong junior-level analysis and implementation in less than 150 hours.\n",
    "*   KPIs\n",
    "   * ValuestreamAI seeks to choose KPIs that are an accurate proxy for implementing Practical Automated Ontologization for HEMS Heterogeneous Experimental Data.\n",
    "   * Classifier Precision: precision of the classifier is paramount because a human user will distrust the inference system if they feel they cannot trust positive inferences\n",
    "   * Classifier Recall: recall determines the percent of researcher toil automated for the given subtask\n",
    "   * Runtime cost per million rows: determines the ongoing per-unit cost of testing and using the inference pipeline. Fortunately, this cost is exponentiating downwards due to an ongoing industry race to the top.\n",
    "   * Upfront R&D costs: the upfront costs. There should be an attainable cost curve for achieving useful milestones.\n",
    "   * Researcher satisfaction with deliverable\n",
    "\n",
    "\n",
    "   * Common KPIs considered but not included:\n",
    "   * F1 score: because we already include precision and recall\n",
    "   * Concept Drift Adaptability: future work\n",
    "   * Training time and cost: because we are starting with zero-shot techniques\n",
    "Solution Constraints\n",
    "   * The proposed solution must plausibly\n",
    "   * represent the larger problem of Practical Automated Ontologization for HEMS Heterogeneous Experimental Data\n",
    "   * scale to reduce a top category of researcher toil by at least 90%\n",
    "   * be adaptable to support high-quality integration with neo4j and VIMI\n",
    "Hackathon Proposed Deliverable\n",
    "   * Deliverable will be a Github repo including the following:\n",
    "   * Jupyter notebooks, including inference proof of concept, experiments, evaluation, and analysis\n",
    "   * A self-contained development environment for reproducing or extending the experiments\n",
    "   * Well-written documentation for relevant R&D workflows\n",
    "   * Up to three hours of recorded live technical deep dive sessions for the client research team\n",
    "   * Deliverable attributes\n",
    "   * Complementary to existing research work\n",
    "   * MIT license\n",
    "   * High standard of readability\n",
    "Payment Terms\n",
    "   * ValuestreamAI requests payment only if the deliverable meets or exceeds the client research team's expectations.\n",
    "   * NET60 from the day of delivery to the client research team\n",
    "   * Requested payment amount is the approximate cost of competition preparation and travel expenses, $4000 CAD\n",
    "   * Engineering hours are granted pro bono for this project.\n",
    "Future Work\n",
    "   * The proposed deliverable is only a tiny slice of the larger problem of Practical Automated Ontologization for HEMS Heterogeneous Experimental Data\n",
    "   * However, the ValuestreamAI team is in the early stages of understanding the broader context of this research field\n",
    "   * The next known subproblems are:[e]\n",
    "   * Defining the complete problem scope of Practical Automated Ontologization for HEMS Heterogeneous Experimental Data\n",
    "   * Inferring ontological relationships between heterogeneous data fields\n",
    "   * Investigating the potential for collaboration with other research institutions to pool resources and data\n",
    "   * Evaluating the effectiveness of the ontology in practice and making necessary adjustments based on feedback from researchers\n",
    "   * Exploring the potential for machine learning algorithms to predict outcomes based on the HEMS data\n",
    "Jargon and Entities\n",
    "   * Hydrogen Electrolysis Materials Science (HEMS): The field of research\n",
    "   * HEMS Heterogeneous Experimental Data: The subproblem under research\n",
    "   * Proposed EMMO Extension Ontology: The department's proposed ontology for HEMS\n",
    "   * Practical Automated Ontologization for HEMS Heterogeneous Experimental Data: The proposed solution to inaccessible experimental data\n",
    "   * neo4j: an industry-standard graph database\n",
    "   * VIMI: [f]\n",
    "\n",
    "\n",
    "[a]Whats the year?\n",
    "[b]whats the quantity?\n",
    "[c]quantity true?\n",
    "[d]quantity correct?\n",
    "[e]Max to add a few more bullet points\n",
    "[f]What does VIMI stand for?\n",
    "\"\"\""
   ]
  },
  {
   "cell_type": "markdown",
   "metadata": {
    "id": "3fPB2bXPjm5H"
   },
   "source": [
    "## Background"
   ]
  },
  {
   "cell_type": "code",
   "execution_count": 4,
   "metadata": {
    "id": "aHeK02AWjqZ3"
   },
   "outputs": [],
   "source": [
    "prompt = f\"\"\"\n",
    "I am writing a one-page engineering proposal outline for a research team at Forschungszentrum Jülich\n",
    "Department of AI and Data Analytics for Integrated Clean Energy Technologies.\n",
    "\n",
    "The text of the proposal is given in <text>\n",
    "\n",
    "Answer the following questions about the background section:\n",
    "- Does the problem narrative flow well?\n",
    "- Does any bullet point appear potentially factually incorrect?\n",
    "- Are there any other obvious problems with the prose?\n",
    "\n",
    "<text>\n",
    "{outline}\n",
    "</text>\n",
    "\"\"\""
   ]
  },
  {
   "cell_type": "code",
   "execution_count": 5,
   "metadata": {
    "id": "VAXBE6p_j6sn"
   },
   "outputs": [],
   "source": [
    "completion = gpt4(prompt)"
   ]
  },
  {
   "cell_type": "code",
   "execution_count": 6,
   "metadata": {
    "colab": {
     "base_uri": "https://localhost:8080/",
     "height": 261
    },
    "executionInfo": {
     "elapsed": 10,
     "status": "ok",
     "timestamp": 1695129755906,
     "user": {
      "displayName": "Toby Tobkin",
      "userId": "12277931878948547258"
     },
     "user_tz": 420
    },
    "id": "Dfk38FcSj-2d",
    "outputId": "2589c85f-bcca-4add-d3dc-4fb5f950988a"
   },
   "outputs": [
    {
     "data": {
      "text/markdown": [
       "The background section of the proposal is generally well-written and provides a clear narrative of the problem at hand. However, there are a few areas that could be improved:\n",
       "\n",
       "1. Problem Narrative Flow: The narrative flow is generally good, but it could be improved by providing more context or explanation for some of the technical terms and concepts. For example, the term \"Hydrogen Electrolysis Materials Science (HEMS)\" is introduced without any explanation of what it involves. Similarly, the concept of \"Practical Automated Ontologization for HEMS Heterogeneous Experimental Data\" could be explained in more detail.\n",
       "\n",
       "2. Factual Accuracy: There are several bullet points where the information provided is unclear or potentially incorrect. For example, the bullet point \"At the current rate of materials science advancement, researchers project that the discovery and adoption of such an advanced material will take until 20XX[a]\" lacks a specific year. Similarly, the bullet points \"[order of magnitude][b] experiments are projected to be needed to make the necessary discoveries\" and \"tens of millions[c] of HEMS experiments are stored in heterogeneous formats by thousands of materials synthesis labs[d]\" lack specific quantities or sources to verify the information.\n",
       "\n",
       "3. Prose Problems: There are a few instances where the prose could be improved for clarity and readability. For example, the bullet point \"We presume that HEMS data will remain heterogeneous without Practical Automated Ontologization for HEMS Heterogeneous Experimental Data due to intractable issues such as researcher turnover at labs\" is quite long and complex, making it difficult to understand. It could be broken down into simpler sentences or rephrased for clarity.\n",
       "\n",
       "4. Unexplained Acronyms: The acronym \"VIMI\" is used without any explanation of what it stands for. This could potentially confuse readers who are not familiar with this term.\n",
       "\n",
       "5. Incomplete Information: There are several places where information seems to be missing or incomplete, such as the placeholders \"[a]\", \"[b]\", \"[c]\", \"[d]\", \"[e]\", and \"[f]\". These should be replaced with the relevant information or references."
      ],
      "text/plain": [
       "<IPython.core.display.Markdown object>"
      ]
     },
     "metadata": {},
     "output_type": "display_data"
    }
   ],
   "source": [
    "display_md(completion)"
   ]
  },
  {
   "cell_type": "markdown",
   "metadata": {
    "id": "FeyuSSX5lmaG"
   },
   "source": [
    "## Problem Statement"
   ]
  },
  {
   "cell_type": "code",
   "execution_count": 7,
   "metadata": {
    "id": "1FlViBRBl0km"
   },
   "outputs": [],
   "source": [
    "prompt = f\"\"\"\n",
    "I am writing a one-page engineering proposal outline for a research team at Forschungszentrum Jülich\n",
    "Department of AI and Data Analytics for Integrated Clean Energy Technologies.\n",
    "\n",
    "The text of the proposal is given in <text>\n",
    "\n",
    "Answer the following questions about the Problem Statement section:\n",
    "- Is the problem statement named accurately?\n",
    "- Can the problem statement name be made more concise?\n",
    "- Does the rationale for choosing the problem statement make sense?\n",
    "- Should any rationale be added, removed, or changed?\n",
    "\n",
    "<text>\n",
    "{outline}\n",
    "</text>\n",
    "\"\"\""
   ]
  },
  {
   "cell_type": "code",
   "execution_count": 8,
   "metadata": {
    "id": "9FfZm1t9l0kn"
   },
   "outputs": [],
   "source": [
    "completion = gpt4(prompt)"
   ]
  },
  {
   "cell_type": "code",
   "execution_count": 9,
   "metadata": {
    "colab": {
     "base_uri": "https://localhost:8080/",
     "height": 185
    },
    "executionInfo": {
     "elapsed": 6,
     "status": "ok",
     "timestamp": 1695129884890,
     "user": {
      "displayName": "Toby Tobkin",
      "userId": "12277931878948547258"
     },
     "user_tz": 420
    },
    "id": "d9-W5MUfl0kn",
    "outputId": "ebb44bf5-dcc1-431b-d601-c7b681fc5c3b"
   },
   "outputs": [
    {
     "data": {
      "text/markdown": [
       "Problem Statement Section Analysis:\n",
       "\n",
       "- The problem statement is named accurately. It clearly states the problem of automating the classification of non-standardized CSV headers to Node Labels compliant with the Proposed EMMO Extension Ontology for Hydrogen Electrolysis Materials Science.\n",
       "\n",
       "- The problem statement name is already concise and specific. It might not be advisable to make it more concise as it might lose its specificity and clarity.\n",
       "\n",
       "- The rationale for choosing the problem statement makes sense. It aligns with the broader goals of the client research department, has urgency and impact for the principal researcher, and is representative of the department's larger problem set.\n",
       "\n",
       "- The rationale seems comprehensive and well thought out. However, it might be beneficial to add a rationale explaining how this problem statement aligns with the overall mission of Forschungszentrum Jülich Department of AI and Data Analytics for Integrated Clean Energy Technologies. This could provide a broader context and further justify the choice of the problem statement."
      ],
      "text/plain": [
       "<IPython.core.display.Markdown object>"
      ]
     },
     "metadata": {},
     "output_type": "display_data"
    }
   ],
   "source": [
    "display_md(completion)"
   ]
  },
  {
   "cell_type": "markdown",
   "metadata": {
    "id": "HVRfdDP0l2Vp"
   },
   "source": [
    "## KPIs"
   ]
  },
  {
   "cell_type": "code",
   "execution_count": 10,
   "metadata": {
    "id": "fsKLFFUZl6Nj"
   },
   "outputs": [],
   "source": [
    "prompt = f\"\"\"\n",
    "I am writing a one-page engineering proposal outline for a research team at Forschungszentrum Jülich\n",
    "Department of AI and Data Analytics for Integrated Clean Energy Technologies.\n",
    "\n",
    "The text of the proposal is given in <text>\n",
    "\n",
    "Answer the following questions about the KPIs section:\n",
    "- Do the KPIs chosen make sense?\n",
    "- Are there any additional KPIs I should consider?\n",
    "- Do the rationales for using the KPIs make sense?\n",
    "\n",
    "<text>\n",
    "{outline}\n",
    "</text>\n",
    "\"\"\""
   ]
  },
  {
   "cell_type": "code",
   "execution_count": 11,
   "metadata": {
    "id": "GJRvDL6ol6Nk"
   },
   "outputs": [],
   "source": [
    "completion = gpt4(prompt)"
   ]
  },
  {
   "cell_type": "code",
   "execution_count": 12,
   "metadata": {
    "colab": {
     "base_uri": "https://localhost:8080/",
     "height": 509
    },
    "executionInfo": {
     "elapsed": 7,
     "status": "ok",
     "timestamp": 1695129956580,
     "user": {
      "displayName": "Toby Tobkin",
      "userId": "12277931878948547258"
     },
     "user_tz": 420
    },
    "id": "hNESp_eGl6Nl",
    "outputId": "c61313b2-7483-4758-cfd2-d42e49cafdee"
   },
   "outputs": [
    {
     "data": {
      "text/markdown": [
       "The KPIs chosen for this proposal do make sense. They are directly related to the project's objectives and will provide a clear measure of the project's success. The KPIs chosen are:\n",
       "\n",
       "1. Classifier Precision: This is important as it measures the accuracy of the classification system. A high precision means that the system is correctly identifying the headers, which is crucial for the project's success.\n",
       "\n",
       "2. Classifier Recall: This measures the percentage of correct classifications out of the total classifications. A high recall means that the system is not missing any relevant headers, which is also crucial for the project's success.\n",
       "\n",
       "3. Runtime cost per million rows: This measures the cost-effectiveness of the system. A lower cost per million rows means that the system is efficient and cost-effective.\n",
       "\n",
       "4. Upfront R&D costs: This measures the initial investment required for the project. A lower upfront cost means that the project is financially feasible.\n",
       "\n",
       "5. Researcher satisfaction with deliverable: This measures the satisfaction of the researchers with the final product. A high satisfaction rate means that the product meets the researchers' needs and expectations.\n",
       "\n",
       "In addition to these KPIs, you might also consider including KPIs related to the system's scalability and adaptability. For example, you could measure the system's ability to handle increasing amounts of data without a significant increase in runtime cost. You could also measure the system's ability to adapt to changes in the data format or structure.\n",
       "\n",
       "The rationales for using these KPIs also make sense. They are directly related to the project's objectives and will provide a clear measure of the project's success. For example, the rationale for using Classifier Precision and Recall is that a high precision and recall are crucial for the success of the project. The rationale for using Runtime cost per million rows and Upfront R&D costs is that a lower cost per million rows and a lower upfront cost make the project financially feasible. The rationale for using Researcher satisfaction with deliverable is that a high satisfaction rate means that the product meets the researchers' needs and expectations."
      ],
      "text/plain": [
       "<IPython.core.display.Markdown object>"
      ]
     },
     "metadata": {},
     "output_type": "display_data"
    }
   ],
   "source": [
    "display_md(completion)"
   ]
  },
  {
   "cell_type": "markdown",
   "metadata": {
    "id": "DzzIfKd7l8Mt"
   },
   "source": [
    "## Solutions Constraints"
   ]
  },
  {
   "cell_type": "code",
   "execution_count": 13,
   "metadata": {
    "id": "1cFdPT6bmAkW"
   },
   "outputs": [],
   "source": [
    "prompt = f\"\"\"\n",
    "I am writing a one-page engineering proposal outline for a research team at Forschungszentrum Jülich\n",
    "Department of AI and Data Analytics for Integrated Clean Energy Technologies.\n",
    "\n",
    "The text of the proposal is given in <text>\n",
    "\n",
    "Answer the following questions about the Solutions Constraints:\n",
    "- Do the solutions constraints make sense for the client?\n",
    "\n",
    "<text>\n",
    "{outline}\n",
    "</text>\n",
    "\"\"\""
   ]
  },
  {
   "cell_type": "code",
   "execution_count": 14,
   "metadata": {
    "id": "CrWnI2VLmAkX"
   },
   "outputs": [],
   "source": [
    "completion = gpt4(prompt)"
   ]
  },
  {
   "cell_type": "code",
   "execution_count": 15,
   "metadata": {
    "colab": {
     "base_uri": "https://localhost:8080/",
     "height": 267
    },
    "executionInfo": {
     "elapsed": 11,
     "status": "ok",
     "timestamp": 1695129982633,
     "user": {
      "displayName": "Toby Tobkin",
      "userId": "12277931878948547258"
     },
     "user_tz": 420
    },
    "id": "yM1uZZlUmAkX",
    "outputId": "76640533-4997-4989-a32e-b2beff2adcde"
   },
   "outputs": [
    {
     "data": {
      "text/markdown": [
       "The solution constraints outlined in the proposal do make sense for the client, Forschungszentrum Jülich Department of AI and Data Analytics for Integrated Clean Energy Technologies. The constraints are aligned with the client's broader goals of commercializing practical, clean hydrogen fuel storage and reducing researcher toil by automating the classification of non-standardized CSV headers. \n",
       "\n",
       "The constraints also take into account the need for the solution to be scalable and adaptable, which are crucial for handling the large and diverse datasets involved in Hydrogen Electrolysis Materials Science (HEMS). The requirement for the solution to support high-quality integration with neo4j and VIMI is also sensible, as these tools are likely to be part of the client's existing data infrastructure.\n",
       "\n",
       "However, it's important to note that the success of the proposed solution will depend on its ability to meet these constraints in practice. This will require careful planning, rigorous testing, and ongoing collaboration with the client to ensure that the solution is effectively addressing their needs."
      ],
      "text/plain": [
       "<IPython.core.display.Markdown object>"
      ]
     },
     "metadata": {},
     "output_type": "display_data"
    }
   ],
   "source": [
    "display_md(completion)"
   ]
  },
  {
   "cell_type": "markdown",
   "metadata": {
    "id": "p7mVl7rpmEhq"
   },
   "source": [
    "## Hackathon Proposed Deliverables"
   ]
  },
  {
   "cell_type": "code",
   "execution_count": 16,
   "metadata": {
    "id": "j1jOvEHimO65"
   },
   "outputs": [],
   "source": [
    "prompt = f\"\"\"\n",
    "I am writing a one-page engineering proposal outline for a research team at Forschungszentrum Jülich\n",
    "Department of AI and Data Analytics for Integrated Clean Energy Technologies.\n",
    "\n",
    "The text of the proposal is given in <text>\n",
    "\n",
    "Answer the following questions about the Hackathon Proposed Deliverables section:\n",
    "- Do the deliverables proposed make sense for the proposed problem scope?\n",
    "- Are there any other deliverables I should consider?\n",
    "\n",
    "<text>\n",
    "{outline}\n",
    "</text>\n",
    "\"\"\""
   ]
  },
  {
   "cell_type": "code",
   "execution_count": 17,
   "metadata": {
    "id": "6hBHLagvmO65"
   },
   "outputs": [],
   "source": [
    "completion = gpt4(prompt)"
   ]
  },
  {
   "cell_type": "code",
   "execution_count": 18,
   "metadata": {
    "colab": {
     "base_uri": "https://localhost:8080/",
     "height": 359
    },
    "executionInfo": {
     "elapsed": 9,
     "status": "ok",
     "timestamp": 1695130027387,
     "user": {
      "displayName": "Toby Tobkin",
      "userId": "12277931878948547258"
     },
     "user_tz": 420
    },
    "id": "6yvTKEx3mO66",
    "outputId": "8e9e9230-a492-4683-f2f1-c1144d552c28"
   },
   "outputs": [
    {
     "data": {
      "text/markdown": [
       "The deliverables proposed in the Hackathon Proposed Deliverables section make sense for the proposed problem scope. The deliverables include a Github repo with Jupyter notebooks, a self-contained development environment, well-written documentation, and recorded technical deep dive sessions. These deliverables align with the problem of automating the classification of non-standardized CSV headers to Node Labels compliant with the Proposed EMMO Extension Ontology for Hydrogen Electrolysis Materials Science.\n",
       "\n",
       "However, there are a few additional deliverables you might consider:\n",
       "\n",
       "1. A detailed project report: This could include the methodology, challenges faced, solutions implemented, and key learnings from the project. This would be beneficial for future reference and for other teams who might work on similar problems.\n",
       "\n",
       "2. A user manual or guide: This would be helpful for the research team to understand how to use the developed system effectively.\n",
       "\n",
       "3. A maintenance and support plan: Given the technical nature of the project, it would be beneficial to have a plan in place for addressing any issues or bugs that might arise after the project is delivered.\n",
       "\n",
       "4. A roadmap for future work: As mentioned in the proposal, the deliverable is only a small part of the larger problem. Providing a roadmap for future work could help the research team understand the next steps and how they can continue to build on the work done in this project. \n",
       "\n",
       "5. Training sessions: Depending on the complexity of the system, it might be beneficial to offer training sessions to the research team to ensure they can effectively use and maintain the system."
      ],
      "text/plain": [
       "<IPython.core.display.Markdown object>"
      ]
     },
     "metadata": {},
     "output_type": "display_data"
    }
   ],
   "source": [
    "display_md(completion)"
   ]
  },
  {
   "cell_type": "markdown",
   "metadata": {
    "id": "BnTcSWq4mP12"
   },
   "source": [
    "## Payment Terms"
   ]
  },
  {
   "cell_type": "code",
   "execution_count": 19,
   "metadata": {
    "id": "PY7jYDvOmTmN"
   },
   "outputs": [],
   "source": [
    "prompt = f\"\"\"\n",
    "I am writing a one-page engineering proposal outline for a research team at Forschungszentrum Jülich\n",
    "Department of AI and Data Analytics for Integrated Clean Energy Technologies.\n",
    "\n",
    "The text of the proposal is given in <text>\n",
    "\n",
    "Answer the following questions about the Payment Terms section:\n",
    "- Do the payment terms make sense?\n",
    "\n",
    "<text>\n",
    "{outline}\n",
    "</text>\n",
    "\"\"\""
   ]
  },
  {
   "cell_type": "code",
   "execution_count": 20,
   "metadata": {
    "id": "BtZUzUbemTmO"
   },
   "outputs": [],
   "source": [
    "completion = gpt4(prompt)"
   ]
  },
  {
   "cell_type": "code",
   "execution_count": 21,
   "metadata": {
    "colab": {
     "base_uri": "https://localhost:8080/",
     "height": 116
    },
    "executionInfo": {
     "elapsed": 14,
     "status": "ok",
     "timestamp": 1695130038834,
     "user": {
      "displayName": "Toby Tobkin",
      "userId": "12277931878948547258"
     },
     "user_tz": 420
    },
    "id": "vm4r4-y9mTmP",
    "outputId": "af8d7b8e-5a6b-4a3e-de13-c93cfecdcde5"
   },
   "outputs": [
    {
     "data": {
      "text/markdown": [
       "The Payment Terms section of the proposal seems to make sense. It states that ValuestreamAI will only request payment if the deliverable meets or exceeds the client research team's expectations. The payment is due NET60 from the day of delivery to the client research team. The requested payment amount is $4000 CAD, which is stated to cover the approximate cost of competition preparation and travel expenses. The engineering hours for the project are granted pro bono. This suggests that the team is not charging for the time spent on the project, but only for the expenses incurred."
      ],
      "text/plain": [
       "<IPython.core.display.Markdown object>"
      ]
     },
     "metadata": {},
     "output_type": "display_data"
    }
   ],
   "source": [
    "display_md(completion)"
   ]
  },
  {
   "cell_type": "markdown",
   "metadata": {
    "id": "DuE7sqAGmULn"
   },
   "source": [
    "## Future Work"
   ]
  },
  {
   "cell_type": "code",
   "execution_count": 22,
   "metadata": {
    "id": "wHgQ8Oz5mWzf"
   },
   "outputs": [],
   "source": [
    "prompt = f\"\"\"\n",
    "I am writing a one-page engineering proposal outline for a research team at Forschungszentrum Jülich\n",
    "Department of AI and Data Analytics for Integrated Clean Energy Technologies.\n",
    "\n",
    "The text of the proposal is given in <text>\n",
    "\n",
    "Answer the following questions about the Future Work section:\n",
    "- Does the proposed future work make sense?\n",
    "- Are there any other obvious places for future work?\n",
    "\n",
    "<text>\n",
    "{outline}\n",
    "</text>\n",
    "\"\"\""
   ]
  },
  {
   "cell_type": "code",
   "execution_count": 23,
   "metadata": {
    "id": "cC1GCs70mWzg"
   },
   "outputs": [],
   "source": [
    "completion = gpt4(prompt)"
   ]
  },
  {
   "cell_type": "code",
   "execution_count": 24,
   "metadata": {
    "colab": {
     "base_uri": "https://localhost:8080/",
     "height": 248
    },
    "executionInfo": {
     "elapsed": 7,
     "status": "ok",
     "timestamp": 1695130088538,
     "user": {
      "displayName": "Toby Tobkin",
      "userId": "12277931878948547258"
     },
     "user_tz": 420
    },
    "id": "otBxVeu0mWzh",
    "outputId": "6e86edda-fe86-4e55-f692-eba19577f980"
   },
   "outputs": [
    {
     "data": {
      "text/markdown": [
       "The proposed future work does make sense. It is a logical continuation of the project, focusing on defining the complete problem scope, inferring ontological relationships, collaborating with other research institutions, evaluating the effectiveness of the ontology, and exploring machine learning algorithms. These steps are all crucial for the development and implementation of the Practical Automated Ontologization for HEMS Heterogeneous Experimental Data.\n",
       "\n",
       "In terms of other obvious places for future work, the proposal could consider:\n",
       "\n",
       "- Developing a standardized training program for researchers to understand and use the new ontology effectively.\n",
       "- Investigating the potential for integrating the ontology with other existing systems or databases.\n",
       "- Exploring the potential for commercializing the ontology or any derived technologies.\n",
       "- Conducting a detailed cost-benefit analysis of implementing the ontology in various research settings.\n",
       "- Assessing the potential environmental impact of widespread adoption of the ontology and any resulting technologies."
      ],
      "text/plain": [
       "<IPython.core.display.Markdown object>"
      ]
     },
     "metadata": {},
     "output_type": "display_data"
    }
   ],
   "source": [
    "display_md(completion)"
   ]
  },
  {
   "cell_type": "markdown",
   "metadata": {
    "id": "XZf7S-MgmY96"
   },
   "source": [
    "## Jargon and Entities"
   ]
  },
  {
   "cell_type": "code",
   "execution_count": 25,
   "metadata": {
    "id": "RwYxrZG1mc1Y"
   },
   "outputs": [],
   "source": [
    "prompt = f\"\"\"\n",
    "I am writing a one-page engineering proposal outline for a research team at Forschungszentrum Jülich\n",
    "Department of AI and Data Analytics for Integrated Clean Energy Technologies.\n",
    "\n",
    "The text of the proposal is given in <text>\n",
    "\n",
    "Answer the following questions about the Jargon and Entities section:\n",
    "- Does the jargon make sense?\n",
    "- Can any of the jargon be simplified?\n",
    "\n",
    "<text>\n",
    "{outline}\n",
    "</text>\n",
    "\"\"\""
   ]
  },
  {
   "cell_type": "code",
   "execution_count": 26,
   "metadata": {
    "id": "9VQHspLfmc1Z"
   },
   "outputs": [],
   "source": [
    "completion = gpt4(prompt)"
   ]
  },
  {
   "cell_type": "code",
   "execution_count": 27,
   "metadata": {
    "colab": {
     "base_uri": "https://localhost:8080/",
     "height": 319
    },
    "executionInfo": {
     "elapsed": 5,
     "status": "ok",
     "timestamp": 1695130129794,
     "user": {
      "displayName": "Toby Tobkin",
      "userId": "12277931878948547258"
     },
     "user_tz": 420
    },
    "id": "LpXSRb8Gmc1Z",
    "outputId": "e395698e-ec19-4dde-921d-8cc6f41827d7"
   },
   "outputs": [
    {
     "data": {
      "text/markdown": [
       "The jargon in the proposal does make sense, especially for the intended audience of researchers and engineers in the field of AI and Data Analytics for Integrated Clean Energy Technologies. However, it might be challenging for individuals outside of this field to understand. \n",
       "\n",
       "Here are some suggestions to simplify the jargon:\n",
       "\n",
       "1. Hydrogen Electrolysis Materials Science (HEMS): This term could be simplified to \"Hydrogen Fuel Materials\" or \"Hydrogen Storage Materials\". However, this might lose some of the specificity of the original term.\n",
       "\n",
       "2. HEMS Heterogeneous Experimental Data: This could be simplified to \"Varied Hydrogen Fuel Data\" or \"Diverse Hydrogen Storage Data\". Again, this might lose some of the specificity.\n",
       "\n",
       "3. Proposed EMMO Extension Ontology: This term is quite technical and specific to the field. It could be simplified to \"Proposed Data Classification System\", but this would lose the specificity of referring to an ontology, which is a specific type of data classification system.\n",
       "\n",
       "4. Practical Automated Ontologization for HEMS Heterogeneous Experimental Data: This could be simplified to \"Automated Classification for Varied Hydrogen Fuel Data\". However, this simplification loses the reference to ontologization, which is a specific type of data classification.\n",
       "\n",
       "5. Neo4j: This is the name of a specific software product and cannot be simplified without losing its meaning.\n",
       "\n",
       "6. VIMI: Without knowing what VIMI stands for, it's hard to suggest a simplification. However, it's likely that this is also a specific software product or technical term that cannot be simplified without losing its meaning.\n",
       "\n",
       "In general, while the jargon could be simplified, doing so might lose the specificity and technical accuracy of the terms. Therefore, it might be best to keep the jargon as is, but provide clear and concise definitions for each term in the Jargon and Entities section."
      ],
      "text/plain": [
       "<IPython.core.display.Markdown object>"
      ]
     },
     "metadata": {},
     "output_type": "display_data"
    }
   ],
   "source": [
    "display_md(completion)"
   ]
  }
 ],
 "metadata": {
  "colab": {
   "authorship_tag": "ABX9TyP7TzLE+jc1/nNY6LvhGBaK",
   "collapsed_sections": [
    "cWp08IdDa_ok"
   ],
   "provenance": [
    {
     "file_id": "1_Z3m7x9ysDuVESu0C4sG8YpDyrxKLwyJ",
     "timestamp": 1695128003830
    }
   ],
   "toc_visible": true
  },
  "kernelspec": {
   "display_name": "Python 3 (ipykernel)",
   "language": "python",
   "name": "python3"
  },
  "language_info": {
   "codemirror_mode": {
    "name": "ipython",
    "version": 3
   },
   "file_extension": ".py",
   "mimetype": "text/x-python",
   "name": "python",
   "nbconvert_exporter": "python",
   "pygments_lexer": "ipython3",
   "version": "3.11.4"
  }
 },
 "nbformat": 4,
 "nbformat_minor": 4
}
